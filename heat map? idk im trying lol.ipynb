{
 "cells": [
  {
   "cell_type": "code",
   "execution_count": 14,
   "id": "77f975f2",
   "metadata": {},
   "outputs": [],
   "source": [
    "import pandas as pd\n",
    "import matplotlib.pyplot as plt\n",
    "import seaborn as sns\n",
    "import numpy as np"
   ]
  },
  {
   "cell_type": "code",
   "execution_count": 15,
   "id": "40e179e2",
   "metadata": {},
   "outputs": [],
   "source": [
    "df = pd.read_csv('counties_detroit (1).csv')"
   ]
  },
  {
   "cell_type": "code",
   "execution_count": 16,
   "id": "a50da50b",
   "metadata": {},
   "outputs": [
    {
     "data": {
      "text/html": [
       "<div>\n",
       "<style scoped>\n",
       "    .dataframe tbody tr th:only-of-type {\n",
       "        vertical-align: middle;\n",
       "    }\n",
       "\n",
       "    .dataframe tbody tr th {\n",
       "        vertical-align: top;\n",
       "    }\n",
       "\n",
       "    .dataframe thead th {\n",
       "        text-align: right;\n",
       "    }\n",
       "</style>\n",
       "<table border=\"1\" class=\"dataframe\">\n",
       "  <thead>\n",
       "    <tr style=\"text-align: right;\">\n",
       "      <th></th>\n",
       "      <th>FIPS</th>\n",
       "      <th>County or equivalent</th>\n",
       "      <th>State or equivalent</th>\n",
       "      <th>OBJECTID</th>\n",
       "      <th>GEOID10</th>\n",
       "      <th>GEOID20</th>\n",
       "      <th>TRACTCE</th>\n",
       "      <th>BLKGRPCE</th>\n",
       "      <th>CSA</th>\n",
       "      <th>CBSA</th>\n",
       "      <th>...</th>\n",
       "      <th>D5CEI</th>\n",
       "      <th>D5DR</th>\n",
       "      <th>D5DRI</th>\n",
       "      <th>D5DE</th>\n",
       "      <th>D5DEI</th>\n",
       "      <th>D3B_Ranked</th>\n",
       "      <th>D4A_Ranked</th>\n",
       "      <th>NatWalkInd</th>\n",
       "      <th>Shape_Length</th>\n",
       "      <th>Shape_Area</th>\n",
       "    </tr>\n",
       "  </thead>\n",
       "  <tbody>\n",
       "    <tr>\n",
       "      <th>0</th>\n",
       "      <td>24510</td>\n",
       "      <td>Baltimore City[p]</td>\n",
       "      <td>Maryland</td>\n",
       "      <td>109833.4824</td>\n",
       "      <td>2.451020e+11</td>\n",
       "      <td>2.451020e+11</td>\n",
       "      <td>190799.7320</td>\n",
       "      <td>2.404288</td>\n",
       "      <td>548</td>\n",
       "      <td>12580</td>\n",
       "      <td>...</td>\n",
       "      <td>0.755061</td>\n",
       "      <td>-153.136561</td>\n",
       "      <td>-152.784173</td>\n",
       "      <td>-153.136554</td>\n",
       "      <td>-152.669899</td>\n",
       "      <td>16.607963</td>\n",
       "      <td>17.932619</td>\n",
       "      <td>14.144461</td>\n",
       "      <td>2490.456784</td>\n",
       "      <td>3.650990e+05</td>\n",
       "    </tr>\n",
       "    <tr>\n",
       "      <th>1</th>\n",
       "      <td>25025</td>\n",
       "      <td>Suffolk County[k]</td>\n",
       "      <td>Massachusetts</td>\n",
       "      <td>114369.3560</td>\n",
       "      <td>2.502510e+11</td>\n",
       "      <td>2.502510e+11</td>\n",
       "      <td>110392.1269</td>\n",
       "      <td>2.399381</td>\n",
       "      <td>148</td>\n",
       "      <td>14460</td>\n",
       "      <td>...</td>\n",
       "      <td>0.759096</td>\n",
       "      <td>-464.390880</td>\n",
       "      <td>-463.964984</td>\n",
       "      <td>-464.390892</td>\n",
       "      <td>-463.982379</td>\n",
       "      <td>17.368421</td>\n",
       "      <td>18.026316</td>\n",
       "      <td>14.936791</td>\n",
       "      <td>2543.072190</td>\n",
       "      <td>4.820084e+05</td>\n",
       "    </tr>\n",
       "    <tr>\n",
       "      <th>2</th>\n",
       "      <td>26163</td>\n",
       "      <td>Wayne County</td>\n",
       "      <td>Michigan</td>\n",
       "      <td>120823.2629</td>\n",
       "      <td>2.616360e+11</td>\n",
       "      <td>2.616360e+11</td>\n",
       "      <td>551866.8200</td>\n",
       "      <td>2.218441</td>\n",
       "      <td>220</td>\n",
       "      <td>19820</td>\n",
       "      <td>...</td>\n",
       "      <td>0.619094</td>\n",
       "      <td>-44126.890800</td>\n",
       "      <td>-44126.657220</td>\n",
       "      <td>-44126.890810</td>\n",
       "      <td>-44126.696690</td>\n",
       "      <td>13.732711</td>\n",
       "      <td>9.967069</td>\n",
       "      <td>10.546926</td>\n",
       "      <td>3764.575014</td>\n",
       "      <td>9.563130e+05</td>\n",
       "    </tr>\n",
       "    <tr>\n",
       "      <th>3</th>\n",
       "      <td>39035</td>\n",
       "      <td>Cuyahoga County</td>\n",
       "      <td>Ohio</td>\n",
       "      <td>176558.5792</td>\n",
       "      <td>3.903520e+11</td>\n",
       "      <td>3.903520e+11</td>\n",
       "      <td>149025.3485</td>\n",
       "      <td>2.014630</td>\n",
       "      <td>184</td>\n",
       "      <td>17460</td>\n",
       "      <td>...</td>\n",
       "      <td>0.702643</td>\n",
       "      <td>-14285.570580</td>\n",
       "      <td>-14285.259920</td>\n",
       "      <td>-14285.570590</td>\n",
       "      <td>-14285.322270</td>\n",
       "      <td>12.335628</td>\n",
       "      <td>14.337349</td>\n",
       "      <td>11.934165</td>\n",
       "      <td>4402.858334</td>\n",
       "      <td>2.776163e+06</td>\n",
       "    </tr>\n",
       "  </tbody>\n",
       "</table>\n",
       "<p>4 rows × 80 columns</p>\n",
       "</div>"
      ],
      "text/plain": [
       "    FIPS County or equivalent State or equivalent     OBJECTID       GEOID10  \\\n",
       "0  24510    Baltimore City[p]            Maryland  109833.4824  2.451020e+11   \n",
       "1  25025    Suffolk County[k]       Massachusetts  114369.3560  2.502510e+11   \n",
       "2  26163         Wayne County            Michigan  120823.2629  2.616360e+11   \n",
       "3  39035      Cuyahoga County                Ohio  176558.5792  3.903520e+11   \n",
       "\n",
       "        GEOID20      TRACTCE  BLKGRPCE  CSA   CBSA  ...     D5CEI  \\\n",
       "0  2.451020e+11  190799.7320  2.404288  548  12580  ...  0.755061   \n",
       "1  2.502510e+11  110392.1269  2.399381  148  14460  ...  0.759096   \n",
       "2  2.616360e+11  551866.8200  2.218441  220  19820  ...  0.619094   \n",
       "3  3.903520e+11  149025.3485  2.014630  184  17460  ...  0.702643   \n",
       "\n",
       "           D5DR         D5DRI          D5DE         D5DEI  D3B_Ranked  \\\n",
       "0   -153.136561   -152.784173   -153.136554   -152.669899   16.607963   \n",
       "1   -464.390880   -463.964984   -464.390892   -463.982379   17.368421   \n",
       "2 -44126.890800 -44126.657220 -44126.890810 -44126.696690   13.732711   \n",
       "3 -14285.570580 -14285.259920 -14285.570590 -14285.322270   12.335628   \n",
       "\n",
       "   D4A_Ranked  NatWalkInd  Shape_Length    Shape_Area  \n",
       "0   17.932619   14.144461   2490.456784  3.650990e+05  \n",
       "1   18.026316   14.936791   2543.072190  4.820084e+05  \n",
       "2    9.967069   10.546926   3764.575014  9.563130e+05  \n",
       "3   14.337349   11.934165   4402.858334  2.776163e+06  \n",
       "\n",
       "[4 rows x 80 columns]"
      ]
     },
     "execution_count": 16,
     "metadata": {},
     "output_type": "execute_result"
    }
   ],
   "source": [
    "df"
   ]
  },
  {
   "cell_type": "code",
   "execution_count": 17,
   "id": "2d5719df",
   "metadata": {},
   "outputs": [],
   "source": [
    "pivot = pd.pivot_table(df, values='Shape_Area', index='FIPS', columns='NatWalkInd', aggfunc=np.sum)"
   ]
  },
  {
   "cell_type": "code",
   "execution_count": 18,
   "id": "c2302748",
   "metadata": {},
   "outputs": [
    {
     "data": {
      "image/png": "[encoded data removed]",
      "text/plain": [
       "<Figure size 432x288 with 2 Axes>"
      ]
     },
     "metadata": {
      "needs_background": "light"
     },
     "output_type": "display_data"
    }
   ],
   "source": [
    "sns.heatmap(pivot, cmap='YlGnBu')\n",
    "plt.show()"
   ]
  },
  {
   "cell_type": "code",
   "execution_count": null,
   "id": "43848d52",
   "metadata": {},
   "outputs": [],
   "source": []
  }
 ],
 "metadata": {
  "kernelspec": {
   "display_name": "Python 3 (ipykernel)",
   "language": "python",
   "name": "python3"
  },
  "language_info": {
   "codemirror_mode": {
    "name": "ipython",
    "version": 3
   },
   "file_extension": ".py",
   "mimetype": "text/x-python",
   "name": "python",
   "nbconvert_exporter": "python",
   "pygments_lexer": "ipython3",
   "version": "3.7.7"
  }
 },
 "nbformat": 4,
 "nbformat_minor": 5
}
